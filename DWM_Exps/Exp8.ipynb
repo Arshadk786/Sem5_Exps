{
 "cells": [
  {
   "cell_type": "markdown",
   "id": "5663fbed",
   "metadata": {},
   "source": [
    "**Page Rank Algorithm**"
   ]
  },
  {
   "cell_type": "markdown",
   "id": "bc9ee7ab",
   "metadata": {},
   "source": [
    "Importing libraries"
   ]
  },
  {
   "cell_type": "code",
   "execution_count": 1,
   "id": "542b4f85",
   "metadata": {},
   "outputs": [],
   "source": [
    "'''\n",
    "Name: Khan Arshad Abdulla\n",
    "Roll No: 20CO24\n",
    "'''\n",
    "\n",
    "import numpy as np\n",
    "from fractions import Fraction"
   ]
  },
  {
   "cell_type": "markdown",
   "id": "0e02775d",
   "metadata": {},
   "source": [
    "To get output in float format"
   ]
  },
  {
   "cell_type": "code",
   "execution_count": 2,
   "id": "a6d7dc66",
   "metadata": {},
   "outputs": [],
   "source": [
    "def display_format(my_vector, my_decimal):\n",
    "    return np.round((my_vector).astype(np.float64), decimals=my_decimal)"
   ]
  },
  {
   "cell_type": "markdown",
   "id": "7e14fe99",
   "metadata": {},
   "source": [
    "Setting Default probablity"
   ]
  },
  {
   "cell_type": "code",
   "execution_count": 3,
   "id": "4cb6217b",
   "metadata": {},
   "outputs": [],
   "source": [
    "my_dp = Fraction(1,3)\n"
   ]
  },
  {
   "cell_type": "markdown",
   "id": "9cb48f20",
   "metadata": {},
   "source": [
    "Creating the Matrix"
   ]
  },
  {
   "cell_type": "code",
   "execution_count": 4,
   "id": "1abda33a",
   "metadata": {},
   "outputs": [],
   "source": [
    "Mat = np.matrix([[0, Fraction(1, 2), Fraction(1, 2)],\n",
    "        [0, 0, 1],\n",
    "        [1, 0, 0]])"
   ]
  },
  {
   "cell_type": "code",
   "execution_count": 5,
   "id": "c75dc33b",
   "metadata": {},
   "outputs": [],
   "source": [
    "Mat = np.transpose(Mat)"
   ]
  },
  {
   "cell_type": "code",
   "execution_count": 6,
   "id": "9444703b",
   "metadata": {},
   "outputs": [
    {
     "data": {
      "text/plain": [
       "matrix([[0, 0, 1],\n",
       "        [Fraction(1, 2), 0, 0],\n",
       "        [Fraction(1, 2), 1, 0]], dtype=object)"
      ]
     },
     "execution_count": 6,
     "metadata": {},
     "output_type": "execute_result"
    }
   ],
   "source": [
    "Mat"
   ]
  },
  {
   "cell_type": "markdown",
   "id": "d8b49032",
   "metadata": {},
   "source": [
    "Creating the default probability matrix"
   ]
  },
  {
   "cell_type": "code",
   "execution_count": 7,
   "id": "b7863ea9",
   "metadata": {},
   "outputs": [],
   "source": [
    "E = np.zeros((3,3))\n",
    "E[:] = my_dp"
   ]
  },
  {
   "cell_type": "code",
   "execution_count": 8,
   "id": "65d83460",
   "metadata": {},
   "outputs": [
    {
     "data": {
      "text/plain": [
       "array([[0.33333333, 0.33333333, 0.33333333],\n",
       "       [0.33333333, 0.33333333, 0.33333333],\n",
       "       [0.33333333, 0.33333333, 0.33333333]])"
      ]
     },
     "execution_count": 8,
     "metadata": {},
     "output_type": "execute_result"
    }
   ],
   "source": [
    "E"
   ]
  },
  {
   "cell_type": "markdown",
   "id": "8cbf7362",
   "metadata": {},
   "source": [
    "Setting damping factor"
   ]
  },
  {
   "cell_type": "code",
   "execution_count": 9,
   "id": "f0e09fa7",
   "metadata": {},
   "outputs": [],
   "source": [
    "df = 0.7\n",
    "\n",
    "#Page rank\n",
    "Al = ((1-df) * E) + df * Mat"
   ]
  },
  {
   "cell_type": "code",
   "execution_count": 10,
   "id": "3b3b98a1",
   "metadata": {},
   "outputs": [
    {
     "data": {
      "text/plain": [
       "matrix([[0.1, 0.1, 0.7999999999999999],\n",
       "        [0.44999999999999996, 0.1, 0.1],\n",
       "        [0.44999999999999996, 0.7999999999999999, 0.1]], dtype=object)"
      ]
     },
     "execution_count": 10,
     "metadata": {},
     "output_type": "execute_result"
    }
   ],
   "source": [
    "Al"
   ]
  },
  {
   "cell_type": "markdown",
   "id": "200d37de",
   "metadata": {},
   "source": [
    "Create next iteration matrix and take transpose of it"
   ]
  },
  {
   "cell_type": "code",
   "execution_count": 11,
   "id": "b3c23a74",
   "metadata": {},
   "outputs": [
    {
     "data": {
      "text/plain": [
       "matrix([[1],\n",
       "        [1],\n",
       "        [1]])"
      ]
     },
     "execution_count": 11,
     "metadata": {},
     "output_type": "execute_result"
    }
   ],
   "source": [
    "r = np.matrix([1, 1, 1])\n",
    "r = np.transpose(r)\n",
    "r"
   ]
  },
  {
   "cell_type": "markdown",
   "id": "54a4ccdf",
   "metadata": {},
   "source": [
    "Iterate the matrix"
   ]
  },
  {
   "cell_type": "code",
   "execution_count": 12,
   "id": "ed5c2f5a",
   "metadata": {
    "scrolled": true
   },
   "outputs": [
    {
     "name": "stdout",
     "output_type": "stream",
     "text": [
      "[[1.  ]\n",
      " [0.65]\n",
      " [1.35]]\n",
      "[[1.245]\n",
      " [0.65 ]\n",
      " [1.105]]\n",
      "[[1.074]\n",
      " [0.736]\n",
      " [1.191]]\n",
      "[[1.134]\n",
      " [0.676]\n",
      " [1.191]]\n",
      "[[1.134]\n",
      " [0.697]\n",
      " [1.17 ]]\n",
      "[[1.119]\n",
      " [0.697]\n",
      " [1.184]]\n",
      "[[1.129]\n",
      " [0.692]\n",
      " [1.179]]\n",
      "[[1.126]\n",
      " [0.695]\n",
      " [1.179]]\n",
      "[[1.126]\n",
      " [0.694]\n",
      " [1.181]]\n",
      "[[1.126]\n",
      " [0.694]\n",
      " [1.18 ]]\n",
      "[[1.126]\n",
      " [0.694]\n",
      " [1.18 ]]\n",
      "[[1.126]\n",
      " [0.694]\n",
      " [1.18 ]]\n",
      "[[1.126]\n",
      " [0.694]\n",
      " [1.18 ]]\n",
      "[[1.126]\n",
      " [0.694]\n",
      " [1.18 ]]\n",
      "[[1.126]\n",
      " [0.694]\n",
      " [1.18 ]]\n",
      "[[1.126]\n",
      " [0.694]\n",
      " [1.18 ]]\n",
      "[[1.126]\n",
      " [0.694]\n",
      " [1.18 ]]\n",
      "[[1.126]\n",
      " [0.694]\n",
      " [1.18 ]]\n",
      "[[1.126]\n",
      " [0.694]\n",
      " [1.18 ]]\n",
      "[[1.126]\n",
      " [0.694]\n",
      " [1.18 ]]\n",
      "[[1.126]\n",
      " [0.694]\n",
      " [1.18 ]]\n",
      "[[1.126]\n",
      " [0.694]\n",
      " [1.18 ]]\n",
      "[[1.126]\n",
      " [0.694]\n",
      " [1.18 ]]\n",
      "[[1.126]\n",
      " [0.694]\n",
      " [1.18 ]]\n",
      "[[1.126]\n",
      " [0.694]\n",
      " [1.18 ]]\n",
      "[[1.126]\n",
      " [0.694]\n",
      " [1.18 ]]\n",
      "[[1.126]\n",
      " [0.694]\n",
      " [1.18 ]]\n",
      "[[1.126]\n",
      " [0.694]\n",
      " [1.18 ]]\n",
      "[[1.126]\n",
      " [0.694]\n",
      " [1.18 ]]\n",
      "[[1.126]\n",
      " [0.694]\n",
      " [1.18 ]]\n",
      "[[1.126]\n",
      " [0.694]\n",
      " [1.18 ]]\n",
      "[[1.126]\n",
      " [0.694]\n",
      " [1.18 ]]\n",
      "[[1.126]\n",
      " [0.694]\n",
      " [1.18 ]]\n",
      "[[1.126]\n",
      " [0.694]\n",
      " [1.18 ]]\n",
      "[[1.126]\n",
      " [0.694]\n",
      " [1.18 ]]\n",
      "[[1.126]\n",
      " [0.694]\n",
      " [1.18 ]]\n",
      "[[1.126]\n",
      " [0.694]\n",
      " [1.18 ]]\n",
      "[[1.126]\n",
      " [0.694]\n",
      " [1.18 ]]\n",
      "[[1.126]\n",
      " [0.694]\n",
      " [1.18 ]]\n",
      "[[1.126]\n",
      " [0.694]\n",
      " [1.18 ]]\n",
      "[[1.126]\n",
      " [0.694]\n",
      " [1.18 ]]\n",
      "[[1.126]\n",
      " [0.694]\n",
      " [1.18 ]]\n",
      "[[1.126]\n",
      " [0.694]\n",
      " [1.18 ]]\n",
      "[[1.126]\n",
      " [0.694]\n",
      " [1.18 ]]\n",
      "[[1.126]\n",
      " [0.694]\n",
      " [1.18 ]]\n",
      "[[1.126]\n",
      " [0.694]\n",
      " [1.18 ]]\n",
      "[[1.126]\n",
      " [0.694]\n",
      " [1.18 ]]\n",
      "[[1.126]\n",
      " [0.694]\n",
      " [1.18 ]]\n",
      "[[1.126]\n",
      " [0.694]\n",
      " [1.18 ]]\n",
      "[[1.126]\n",
      " [0.694]\n",
      " [1.18 ]]\n",
      "[[1.126]\n",
      " [0.694]\n",
      " [1.18 ]]\n",
      "[[1.126]\n",
      " [0.694]\n",
      " [1.18 ]]\n",
      "[[1.126]\n",
      " [0.694]\n",
      " [1.18 ]]\n",
      "[[1.126]\n",
      " [0.694]\n",
      " [1.18 ]]\n",
      "[[1.126]\n",
      " [0.694]\n",
      " [1.18 ]]\n",
      "[[1.126]\n",
      " [0.694]\n",
      " [1.18 ]]\n",
      "[[1.126]\n",
      " [0.694]\n",
      " [1.18 ]]\n",
      "[[1.126]\n",
      " [0.694]\n",
      " [1.18 ]]\n",
      "[[1.126]\n",
      " [0.694]\n",
      " [1.18 ]]\n",
      "[[1.126]\n",
      " [0.694]\n",
      " [1.18 ]]\n",
      "[[1.126]\n",
      " [0.694]\n",
      " [1.18 ]]\n",
      "[[1.126]\n",
      " [0.694]\n",
      " [1.18 ]]\n",
      "[[1.126]\n",
      " [0.694]\n",
      " [1.18 ]]\n",
      "[[1.126]\n",
      " [0.694]\n",
      " [1.18 ]]\n",
      "[[1.126]\n",
      " [0.694]\n",
      " [1.18 ]]\n",
      "[[1.126]\n",
      " [0.694]\n",
      " [1.18 ]]\n",
      "[[1.126]\n",
      " [0.694]\n",
      " [1.18 ]]\n",
      "[[1.126]\n",
      " [0.694]\n",
      " [1.18 ]]\n",
      "[[1.126]\n",
      " [0.694]\n",
      " [1.18 ]]\n",
      "[[1.126]\n",
      " [0.694]\n",
      " [1.18 ]]\n",
      "[[1.126]\n",
      " [0.694]\n",
      " [1.18 ]]\n",
      "[[1.126]\n",
      " [0.694]\n",
      " [1.18 ]]\n",
      "[[1.126]\n",
      " [0.694]\n",
      " [1.18 ]]\n",
      "[[1.126]\n",
      " [0.694]\n",
      " [1.18 ]]\n",
      "[[1.126]\n",
      " [0.694]\n",
      " [1.18 ]]\n",
      "[[1.126]\n",
      " [0.694]\n",
      " [1.18 ]]\n",
      "[[1.126]\n",
      " [0.694]\n",
      " [1.18 ]]\n",
      "[[1.126]\n",
      " [0.694]\n",
      " [1.18 ]]\n",
      "[[1.126]\n",
      " [0.694]\n",
      " [1.18 ]]\n",
      "[[1.126]\n",
      " [0.694]\n",
      " [1.18 ]]\n",
      "[[1.126]\n",
      " [0.694]\n",
      " [1.18 ]]\n",
      "[[1.126]\n",
      " [0.694]\n",
      " [1.18 ]]\n",
      "[[1.126]\n",
      " [0.694]\n",
      " [1.18 ]]\n",
      "[[1.126]\n",
      " [0.694]\n",
      " [1.18 ]]\n",
      "[[1.126]\n",
      " [0.694]\n",
      " [1.18 ]]\n",
      "[[1.126]\n",
      " [0.694]\n",
      " [1.18 ]]\n",
      "[[1.126]\n",
      " [0.694]\n",
      " [1.18 ]]\n",
      "[[1.126]\n",
      " [0.694]\n",
      " [1.18 ]]\n",
      "[[1.126]\n",
      " [0.694]\n",
      " [1.18 ]]\n",
      "[[1.126]\n",
      " [0.694]\n",
      " [1.18 ]]\n",
      "[[1.126]\n",
      " [0.694]\n",
      " [1.18 ]]\n",
      "[[1.126]\n",
      " [0.694]\n",
      " [1.18 ]]\n",
      "[[1.126]\n",
      " [0.694]\n",
      " [1.18 ]]\n",
      "[[1.126]\n",
      " [0.694]\n",
      " [1.18 ]]\n",
      "[[1.126]\n",
      " [0.694]\n",
      " [1.18 ]]\n",
      "[[1.126]\n",
      " [0.694]\n",
      " [1.18 ]]\n",
      "[[1.126]\n",
      " [0.694]\n",
      " [1.18 ]]\n",
      "[[1.126]\n",
      " [0.694]\n",
      " [1.18 ]]\n",
      "[[1.126]\n",
      " [0.694]\n",
      " [1.18 ]]\n"
     ]
    }
   ],
   "source": [
    "previous_r = r\n",
    "\n",
    "for i in range(1,100):\n",
    "    r = Al * r\n",
    "    print (display_format(r,3))\n",
    "    if (previous_r==r).all():\n",
    "        break"
   ]
  },
  {
   "cell_type": "code",
   "execution_count": 13,
   "id": "b00f7d2c",
   "metadata": {},
   "outputs": [
    {
     "name": "stdout",
     "output_type": "stream",
     "text": [
      "Final:\n",
      " [[1.126]\n",
      " [0.694]\n",
      " [1.18 ]]\n"
     ]
    }
   ],
   "source": [
    "print (\"Final:\\n\", display_format(r,3))"
   ]
  },
  {
   "cell_type": "code",
   "execution_count": 14,
   "id": "849b3e02",
   "metadata": {},
   "outputs": [
    {
     "name": "stdout",
     "output_type": "stream",
     "text": [
      "Sum:  2.9999999999999867\n"
     ]
    }
   ],
   "source": [
    "print (\"Sum: \", np.sum(r))"
   ]
  },
  {
   "cell_type": "code",
   "execution_count": null,
   "id": "b8ab7fa6",
   "metadata": {},
   "outputs": [],
   "source": []
  },
  {
   "cell_type": "code",
   "execution_count": null,
   "id": "b7412062",
   "metadata": {},
   "outputs": [],
   "source": []
  },
  {
   "cell_type": "code",
   "execution_count": null,
   "id": "6110de95",
   "metadata": {},
   "outputs": [],
   "source": []
  }
 ],
 "metadata": {
  "kernelspec": {
   "display_name": "Python 3.10.2 64-bit",
   "language": "python",
   "name": "python3"
  },
  "language_info": {
   "codemirror_mode": {
    "name": "ipython",
    "version": 3
   },
   "file_extension": ".py",
   "mimetype": "text/x-python",
   "name": "python",
   "nbconvert_exporter": "python",
   "pygments_lexer": "ipython3",
   "version": "3.10.2"
  },
  "vscode": {
   "interpreter": {
    "hash": "26de051ba29f2982a8de78e945f0abaf191376122a1563185a90213a26c5da77"
   }
  }
 },
 "nbformat": 4,
 "nbformat_minor": 5
}
